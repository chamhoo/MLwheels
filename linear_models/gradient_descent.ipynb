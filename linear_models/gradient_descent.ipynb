{
 "cells": [
  {
   "cell_type": "markdown",
   "metadata": {},
   "source": [
    "# Gradient Descent - Breast Cancer"
   ]
  },
  {
   "cell_type": "code",
   "execution_count": 1,
   "metadata": {},
   "outputs": [],
   "source": [
    "# Breast Cancer\n",
    "\n",
    "# Breast Cancer Dataset Training Standard Template\n",
    "# auther: leechh"
   ]
  },
  {
   "cell_type": "code",
   "execution_count": 2,
   "metadata": {},
   "outputs": [],
   "source": [
    "%load_ext autoreload\n",
    "%autoreload 2\n",
    "\n",
    "import sys\n",
    "sys.path.append('../')\n",
    "\n",
    "import warnings\n",
    "warnings.filterwarnings('ignore')"
   ]
  },
  {
   "cell_type": "code",
   "execution_count": 3,
   "metadata": {},
   "outputs": [],
   "source": [
    "import numpy as np\n",
    "import pandas as pd\n",
    "from sklearn.preprocessing import LabelEncoder\n",
    "from sklearn.utils import shuffle\n",
    "\n",
    "from utils import cv"
   ]
  },
  {
   "cell_type": "code",
   "execution_count": 12,
   "metadata": {},
   "outputs": [],
   "source": [
    "# Logistic Regression with Gradient Descent\n",
    "\n",
    "\n",
    "class Logistic_gd(object):\n",
    "    def __init__(self, learning_rate=0.001, num_iter=1e+3, early_stopping=True, tol=1e-4):\n",
    "        self.learning_rate = learning_rate\n",
    "        self.num_iter = int(num_iter)\n",
    "        self.early_stopping = early_stopping\n",
    "        self.tol = tol\n",
    "        self.w = None\n",
    "        self.b = None\n",
    "    \n",
    "    @staticmethod\n",
    "    def sigmoid(x):\n",
    "        return 1. / (1. + np.exp(-x))\n",
    "        \n",
    "    def fit(self, x, y):\n",
    "        # array -> matrix\n",
    "        x_m = np.matrix(np.c_[x, np.ones([len(x), 1])])\n",
    "        y_m = np.matrix(np.expand_dims(y, axis=-1))\n",
    "        # weight\n",
    "        self.w = np.matrix(np.ones([x_m.shape[1], 1]))\n",
    "        # gd\n",
    "        for i in range(self.num_iter):\n",
    "            y_pred = self.sigmoid(x_m * self.w)\n",
    "            error = (y_m - y_pred)\n",
    "            w_update = self.learning_rate * x_m.T * error\n",
    "            if (self.early_stopping) & (np.abs(np.mean(w_update)) < self.tol):\n",
    "                break\n",
    "            else:\n",
    "                self.w += w_update\n",
    "            \n",
    "    def predict(self, x):\n",
    "        y_pred = np.matrix(np.c_[x, np.ones([len(x), 1])]) * self.w\n",
    "        y_pred = np.round(self.sigmoid(y_pred))\n",
    "        return y_pred.astype('int')\n",
    "        "
   ]
  },
  {
   "cell_type": "code",
   "execution_count": 5,
   "metadata": {},
   "outputs": [
    {
     "name": "stdout",
     "output_type": "stream",
     "text": [
      "<class 'pandas.core.frame.DataFrame'>\n",
      "RangeIndex: 699 entries, 0 to 698\n",
      "Data columns (total 11 columns):\n",
      " #   Column                       Non-Null Count  Dtype \n",
      "---  ------                       --------------  ----- \n",
      " 0   sample_code_number           699 non-null    int64 \n",
      " 1   clump_thickness              699 non-null    int64 \n",
      " 2   cell_size                    699 non-null    int64 \n",
      " 3   cell_shape                   699 non-null    int64 \n",
      " 4   marginal_adhesion            699 non-null    int64 \n",
      " 5   single_epithelial_cell_size  699 non-null    int64 \n",
      " 6   bare_nuclei                  699 non-null    object\n",
      " 7   bland_chromatin              699 non-null    int64 \n",
      " 8   normal_nucleoli              699 non-null    int64 \n",
      " 9   mitoses                      699 non-null    int64 \n",
      " 10  class                        699 non-null    int64 \n",
      "dtypes: int64(10), object(1)\n",
      "memory usage: 60.2+ KB\n"
     ]
    }
   ],
   "source": [
    "PATH = '../data/breast_cancer/breast-cancer-wisconsin.data'\n",
    "\n",
    "FEATURE_NAME = [\n",
    "    'sample_code_number',\n",
    "    'clump_thickness',\n",
    "    'cell_size',\n",
    "    'cell_shape', \n",
    "    'marginal_adhesion',\n",
    "    'single_epithelial_cell_size',\n",
    "    'bare_nuclei',\n",
    "    'bland_chromatin', \n",
    "    'normal_nucleoli', \n",
    "    'mitoses',\n",
    "    'class'\n",
    "]\n",
    "\n",
    "\n",
    "data = pd.read_csv(PATH, names=FEATURE_NAME)\n",
    "data = shuffle(data, random_state=2020).reset_index(drop=True)\n",
    "data.info()"
   ]
  },
  {
   "cell_type": "code",
   "execution_count": 6,
   "metadata": {},
   "outputs": [],
   "source": [
    "# LabelEncode class\n",
    "le = LabelEncoder()\n",
    "y = le.fit_transform(data['class'])\n",
    "\n",
    "# fillna bare_nuclei\n",
    "data['bare_nuclei'] = data['bare_nuclei'].apply(lambda x: 1 if (x == '?') else x)"
   ]
  },
  {
   "cell_type": "code",
   "execution_count": 7,
   "metadata": {},
   "outputs": [],
   "source": [
    "# DataFrame -> array\n",
    "data.drop(['class', 'sample_code_number'], axis=1, inplace=True)\n",
    "x = data.values.astype('float32')\n",
    "del data"
   ]
  },
  {
   "cell_type": "code",
   "execution_count": 8,
   "metadata": {},
   "outputs": [
    {
     "name": "stdout",
     "output_type": "stream",
     "text": [
      "Total use time: 0.0346s, score: 0.9628263103802672\n"
     ]
    },
    {
     "data": {
      "text/plain": [
       "0.9628263103802672"
      ]
     },
     "execution_count": 8,
     "metadata": {},
     "output_type": "execute_result"
    }
   ],
   "source": [
    "# in this Demo, We will show how to use cv function to test model performance.\n",
    "from sklearn.linear_model import LogisticRegression\n",
    "lr = LogisticRegression()\n",
    "\n",
    "cv(lr, x, y)"
   ]
  },
  {
   "cell_type": "code",
   "execution_count": 13,
   "metadata": {},
   "outputs": [
    {
     "name": "stdout",
     "output_type": "stream",
     "text": [
      "Total use time: 0.1554s, score: 0.9642446043165467\n"
     ]
    },
    {
     "data": {
      "text/plain": [
       "0.9642446043165467"
      ]
     },
     "execution_count": 13,
     "metadata": {},
     "output_type": "execute_result"
    }
   ],
   "source": [
    "lg = Logistic_gd()\n",
    "cv(lg, x, y)"
   ]
  },
  {
   "cell_type": "code",
   "execution_count": null,
   "metadata": {},
   "outputs": [],
   "source": []
  }
 ],
 "metadata": {
  "kernelspec": {
   "display_name": "Python 3",
   "language": "python",
   "name": "python3"
  },
  "language_info": {
   "codemirror_mode": {
    "name": "ipython",
    "version": 3
   },
   "file_extension": ".py",
   "mimetype": "text/x-python",
   "name": "python",
   "nbconvert_exporter": "python",
   "pygments_lexer": "ipython3",
   "version": "3.7.6"
  }
 },
 "nbformat": 4,
 "nbformat_minor": 4
}
